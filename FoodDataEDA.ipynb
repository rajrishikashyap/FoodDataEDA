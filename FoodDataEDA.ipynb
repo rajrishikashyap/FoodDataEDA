{
 "cells": [
  {
   "cell_type": "code",
   "execution_count": 1,
   "id": "8faee9bb",
   "metadata": {},
   "outputs": [],
   "source": [
    "import pandas as pd"
   ]
  },
  {
   "cell_type": "code",
   "execution_count": 4,
   "id": "e6b5af04",
   "metadata": {},
   "outputs": [
    {
     "data": {
      "text/html": [
       "<div>\n",
       "<style scoped>\n",
       "    .dataframe tbody tr th:only-of-type {\n",
       "        vertical-align: middle;\n",
       "    }\n",
       "\n",
       "    .dataframe tbody tr th {\n",
       "        vertical-align: top;\n",
       "    }\n",
       "\n",
       "    .dataframe thead th {\n",
       "        text-align: right;\n",
       "    }\n",
       "</style>\n",
       "<table border=\"1\" class=\"dataframe\">\n",
       "  <thead>\n",
       "    <tr style=\"text-align: right;\">\n",
       "      <th></th>\n",
       "      <th>Area Code</th>\n",
       "      <th>Area</th>\n",
       "      <th>Item Code</th>\n",
       "      <th>Item</th>\n",
       "      <th>Element Code</th>\n",
       "      <th>Element</th>\n",
       "      <th>Unit</th>\n",
       "      <th>Y2014</th>\n",
       "      <th>Y2015</th>\n",
       "      <th>Y2016</th>\n",
       "      <th>Y2017</th>\n",
       "      <th>Y2018</th>\n",
       "    </tr>\n",
       "  </thead>\n",
       "  <tbody>\n",
       "    <tr>\n",
       "      <th>0</th>\n",
       "      <td>4</td>\n",
       "      <td>Algeria</td>\n",
       "      <td>2501</td>\n",
       "      <td>Population</td>\n",
       "      <td>511</td>\n",
       "      <td>Total Population - Both sexes</td>\n",
       "      <td>1000 persons</td>\n",
       "      <td>38924.00</td>\n",
       "      <td>39728.00</td>\n",
       "      <td>40551.00</td>\n",
       "      <td>41389.00</td>\n",
       "      <td>42228.00</td>\n",
       "    </tr>\n",
       "    <tr>\n",
       "      <th>1</th>\n",
       "      <td>4</td>\n",
       "      <td>Algeria</td>\n",
       "      <td>2501</td>\n",
       "      <td>Population</td>\n",
       "      <td>5301</td>\n",
       "      <td>Domestic supply quantity</td>\n",
       "      <td>1000 tonnes</td>\n",
       "      <td>0.00</td>\n",
       "      <td>0.00</td>\n",
       "      <td>0.00</td>\n",
       "      <td>0.00</td>\n",
       "      <td>0.00</td>\n",
       "    </tr>\n",
       "    <tr>\n",
       "      <th>2</th>\n",
       "      <td>4</td>\n",
       "      <td>Algeria</td>\n",
       "      <td>2901</td>\n",
       "      <td>Grand Total</td>\n",
       "      <td>664</td>\n",
       "      <td>Food supply (kcal/capita/day)</td>\n",
       "      <td>kcal/capita/day</td>\n",
       "      <td>3377.00</td>\n",
       "      <td>3379.00</td>\n",
       "      <td>3372.00</td>\n",
       "      <td>3341.00</td>\n",
       "      <td>3322.00</td>\n",
       "    </tr>\n",
       "    <tr>\n",
       "      <th>3</th>\n",
       "      <td>4</td>\n",
       "      <td>Algeria</td>\n",
       "      <td>2901</td>\n",
       "      <td>Grand Total</td>\n",
       "      <td>674</td>\n",
       "      <td>Protein supply quantity (g/capita/day)</td>\n",
       "      <td>g/capita/day</td>\n",
       "      <td>94.90</td>\n",
       "      <td>94.35</td>\n",
       "      <td>94.72</td>\n",
       "      <td>92.82</td>\n",
       "      <td>91.83</td>\n",
       "    </tr>\n",
       "    <tr>\n",
       "      <th>4</th>\n",
       "      <td>4</td>\n",
       "      <td>Algeria</td>\n",
       "      <td>2901</td>\n",
       "      <td>Grand Total</td>\n",
       "      <td>684</td>\n",
       "      <td>Fat supply quantity (g/capita/day)</td>\n",
       "      <td>g/capita/day</td>\n",
       "      <td>80.06</td>\n",
       "      <td>79.36</td>\n",
       "      <td>77.40</td>\n",
       "      <td>80.19</td>\n",
       "      <td>77.28</td>\n",
       "    </tr>\n",
       "  </tbody>\n",
       "</table>\n",
       "</div>"
      ],
      "text/plain": [
       "   Area Code     Area  Item Code         Item  Element Code  \\\n",
       "0          4  Algeria       2501   Population           511   \n",
       "1          4  Algeria       2501   Population          5301   \n",
       "2          4  Algeria       2901  Grand Total           664   \n",
       "3          4  Algeria       2901  Grand Total           674   \n",
       "4          4  Algeria       2901  Grand Total           684   \n",
       "\n",
       "                                  Element             Unit     Y2014  \\\n",
       "0           Total Population - Both sexes     1000 persons  38924.00   \n",
       "1                Domestic supply quantity      1000 tonnes      0.00   \n",
       "2           Food supply (kcal/capita/day)  kcal/capita/day   3377.00   \n",
       "3  Protein supply quantity (g/capita/day)     g/capita/day     94.90   \n",
       "4      Fat supply quantity (g/capita/day)     g/capita/day     80.06   \n",
       "\n",
       "      Y2015     Y2016     Y2017     Y2018  \n",
       "0  39728.00  40551.00  41389.00  42228.00  \n",
       "1      0.00      0.00      0.00      0.00  \n",
       "2   3379.00   3372.00   3341.00   3322.00  \n",
       "3     94.35     94.72     92.82     91.83  \n",
       "4     79.36     77.40     80.19     77.28  "
      ]
     },
     "execution_count": 4,
     "metadata": {},
     "output_type": "execute_result"
    }
   ],
   "source": [
    "#Question 1\n",
    "# Load the CSV file into a DataFrame with 'latin1' encoding\n",
    "df = pd.read_csv('FoodBalanceSheets_E_Africa_NOFLAG.csv', encoding='latin1')\n",
    "\n",
    "# Display the first few rows of the DataFrame\n",
    "df.head()\n",
    "\n",
    "\n",
    "\n"
   ]
  },
  {
   "cell_type": "code",
   "execution_count": 5,
   "id": "c23c6024",
   "metadata": {},
   "outputs": [
    {
     "name": "stdout",
     "output_type": "stream",
     "text": [
      "Total sum of Processing in 2017: 292836.0\n"
     ]
    }
   ],
   "source": [
    "# Group by 'Element' and sum the values for each element\n",
    "grouped_data = df.groupby('Element').sum()\n",
    "\n",
    "# Reset the index to make 'Element' a regular column\n",
    "grouped_data = grouped_data.reset_index()\n",
    "\n",
    "# Filter the DataFrame to get the sum of 'Processing' in 2017\n",
    "processing_2017_sum = grouped_data[(grouped_data['Element'] == 'Processing')]['Y2017'].sum()\n",
    "\n",
    "print(\"Total sum of Processing in 2017:\", processing_2017_sum)"
   ]
  },
  {
   "cell_type": "code",
   "execution_count": 6,
   "id": "f35e28e9",
   "metadata": {},
   "outputs": [
    {
     "name": "stdout",
     "output_type": "stream",
     "text": [
      "Area with the highest sum in 2017: Nigeria\n"
     ]
    }
   ],
   "source": [
    "#Question4\n",
    "# Selecting columns 'Y2017' and 'Area'\n",
    "selected_columns = df[['Y2017', 'Area']]\n",
    "\n",
    "# Performing a groupby operation on 'Area' and summing the values for each area\n",
    "grouped_data = selected_columns.groupby('Area').sum()\n",
    "\n",
    "# Finding the area with the highest sum in 2017\n",
    "area_with_highest_sum = grouped_data['Y2017'].idxmax()\n",
    "\n",
    "print(\"Area with the highest sum in 2017:\", area_with_highest_sum)"
   ]
  },
  {
   "cell_type": "code",
   "execution_count": 7,
   "id": "9379755f",
   "metadata": {},
   "outputs": [
    {
     "name": "stdout",
     "output_type": "stream",
     "text": [
      "Mean for the year 2017: 140.92\n",
      "Standard deviation for the year 2017: 1671.86\n"
     ]
    }
   ],
   "source": [
    "#Question6\n",
    "# Selecting only the columns for the year 2017\n",
    "df_2017 = df[['Y2017']]\n",
    "\n",
    "# Calculating the mean and standard deviation for the year 2017\n",
    "mean_2017 = df_2017.mean().values[0]\n",
    "std_dev_2017 = df_2017.std().values[0]\n",
    "\n",
    "# Rounding the results to 2 decimal places\n",
    "mean_2017_rounded = round(mean_2017, 2)\n",
    "std_dev_2017_rounded = round(std_dev_2017, 2)\n",
    "\n",
    "print(\"Mean for the year 2017:\", mean_2017_rounded)\n",
    "print(\"Standard deviation for the year 2017:\", std_dev_2017_rounded)"
   ]
  },
  {
   "cell_type": "code",
   "execution_count": 8,
   "id": "46fa8045",
   "metadata": {},
   "outputs": [
    {
     "name": "stdout",
     "output_type": "stream",
     "text": [
      "Total number of missing data in 2014: 1589\n",
      "Percentage of missing data in 2014: 2.607 %\n"
     ]
    }
   ],
   "source": [
    "#Question8\n",
    "# Selecting only the columns for the year 2014\n",
    "df_2014 = df[['Y2014']]\n",
    "\n",
    "# Calculating the total number of missing values in 2014\n",
    "total_missing_2014 = df_2014.isnull().sum().sum()\n",
    "\n",
    "# Calculating the total number of elements in the DataFrame for 2014\n",
    "total_elements_2014 = df_2014.size\n",
    "\n",
    "# Calculating the percentage of missing data in 2014\n",
    "percentage_missing_2014 = (total_missing_2014 / total_elements_2014) * 100\n",
    "\n",
    "# Rounding the results to 3 decimal places\n",
    "percentage_missing_2014_rounded = round(percentage_missing_2014, 3)\n",
    "\n",
    "print(\"Total number of missing data in 2014:\", total_missing_2014)\n",
    "print(\"Percentage of missing data in 2014:\", percentage_missing_2014_rounded, \"%\")\n"
   ]
  },
  {
   "cell_type": "code",
   "execution_count": 18,
   "id": "ca46a13b",
   "metadata": {},
   "outputs": [
    {
     "name": "stdout",
     "output_type": "stream",
     "text": [
      "Total number of unique countries in the dataset: 49\n"
     ]
    }
   ],
   "source": [
    "#Question14\n",
    "total_unique_countries = df['Area'].nunique()\n",
    "print(\"Total number of unique countries in the dataset:\", total_unique_countries)"
   ]
  },
  {
   "cell_type": "code",
   "execution_count": 19,
   "id": "3ca428d6",
   "metadata": {},
   "outputs": [
    {
     "name": "stdout",
     "output_type": "stream",
     "text": [
      "Area with the 7th lowest sum in 2017: Guinea-Bissau\n"
     ]
    }
   ],
   "source": [
    "#Question18\n",
    "# Select columns 'Y2017' and 'Area'\n",
    "selected_columns = df[['Y2017', 'Area']]\n",
    "\n",
    "# Perform a groupby operation on 'Area' and calculate the sum for 'Y2017'\n",
    "grouped_df = selected_columns.groupby('Area').sum()\n",
    "\n",
    "# Sort the DataFrame by the sum of 'Y2017' values in ascending order\n",
    "sorted_df = grouped_df.sort_values(by='Y2017')\n",
    "\n",
    "# Find the area with the 7th lowest sum\n",
    "seventh_lowest_sum_area = sorted_df.index[6]  # Index starts from 0\n",
    "\n",
    "print(\"Area with the 7th lowest sum in 2017:\", seventh_lowest_sum_area)"
   ]
  },
  {
   "cell_type": "code",
   "execution_count": 23,
   "id": "3205c9e1",
   "metadata": {},
   "outputs": [
    {
     "name": "stdout",
     "output_type": "stream",
     "text": [
      "Year with the least correlation with 'Element Code': Y2016\n"
     ]
    }
   ],
   "source": [
    "#Question19\n",
    "# Calculate the correlation between 'Element Code' and each year's data\n",
    "correlations = {}\n",
    "for year_col in df.filter(like='Y').columns:\n",
    "    correlation = df['Element Code'].corr(df[year_col])\n",
    "    correlations[year_col] = correlation\n",
    "\n",
    "# Find the year with the least correlation\n",
    "year_least_correlation = min(correlations, key=correlations.get)\n",
    "\n",
    "print(\"Year with the least correlation with 'Element Code':\", year_least_correlation)"
   ]
  },
  {
   "cell_type": "code",
   "execution_count": 29,
   "id": "0c1a9ed5",
   "metadata": {},
   "outputs": [
    {
     "name": "stdout",
     "output_type": "stream",
     "text": [
      "       Area Code        Area  Item Code         Item  Element Code  \\\n",
      "30715        129  Madagascar       2501   Population           511   \n",
      "30716        129  Madagascar       2501   Population          5301   \n",
      "30717        129  Madagascar       2901  Grand Total           664   \n",
      "30718        129  Madagascar       2901  Grand Total           674   \n",
      "30719        129  Madagascar       2901  Grand Total           684   \n",
      "\n",
      "                                      Element             Unit     Y2014  \\\n",
      "30715           Total Population - Both sexes     1000 persons  23590.00   \n",
      "30716                Domestic supply quantity      1000 tonnes      0.00   \n",
      "30717           Food supply (kcal/capita/day)  kcal/capita/day   1986.00   \n",
      "30718  Protein supply quantity (g/capita/day)     g/capita/day     44.45   \n",
      "30719      Fat supply quantity (g/capita/day)     g/capita/day     22.18   \n",
      "\n",
      "          Y2015     Y2016     Y2017     Y2018  \n",
      "30715  24234.00  24894.00  25571.00  26262.00  \n",
      "30716      0.00      0.00      0.00      0.00  \n",
      "30717   1922.00   1918.00   1943.00   1938.00  \n",
      "30718     43.26     43.35     43.94     44.17  \n",
      "30719     22.97     23.83     25.26     24.12  \n"
     ]
    }
   ],
   "source": [
    "# Filter the dataframe for Madagascar\n",
    "madagascar_df = df[df['Area'] == 'Madagascar']\n",
    "\n",
    "# Display the first few rows of the filtered dataframe\n",
    "print(madagascar_df.head())"
   ]
  },
  {
   "cell_type": "code",
   "execution_count": 30,
   "id": "b952e0ec",
   "metadata": {},
   "outputs": [
    {
     "ename": "IndexError",
     "evalue": "index 0 is out of bounds for axis 0 with size 0",
     "output_type": "error",
     "traceback": [
      "\u001b[1;31m---------------------------------------------------------------------------\u001b[0m",
      "\u001b[1;31mIndexError\u001b[0m                                Traceback (most recent call last)",
      "Cell \u001b[1;32mIn[30], line 5\u001b[0m\n\u001b[0;32m      2\u001b[0m madagascar_protein_2015 \u001b[38;5;241m=\u001b[39m df[(df[\u001b[38;5;124m'\u001b[39m\u001b[38;5;124mArea\u001b[39m\u001b[38;5;124m'\u001b[39m] \u001b[38;5;241m==\u001b[39m \u001b[38;5;124m'\u001b[39m\u001b[38;5;124mMadagascar\u001b[39m\u001b[38;5;124m'\u001b[39m) \u001b[38;5;241m&\u001b[39m (df[\u001b[38;5;124m'\u001b[39m\u001b[38;5;124mItem\u001b[39m\u001b[38;5;124m'\u001b[39m] \u001b[38;5;241m==\u001b[39m \u001b[38;5;124m'\u001b[39m\u001b[38;5;124mProtein supply quantity (g/capita/day)\u001b[39m\u001b[38;5;124m'\u001b[39m)]\n\u001b[0;32m      4\u001b[0m \u001b[38;5;66;03m# Extract the value for 2015\u001b[39;00m\n\u001b[1;32m----> 5\u001b[0m protein_2015 \u001b[38;5;241m=\u001b[39m \u001b[43mmadagascar_protein_2015\u001b[49m\u001b[43m[\u001b[49m\u001b[38;5;124;43m'\u001b[39;49m\u001b[38;5;124;43mY2015\u001b[39;49m\u001b[38;5;124;43m'\u001b[39;49m\u001b[43m]\u001b[49m\u001b[38;5;241;43m.\u001b[39;49m\u001b[43mvalues\u001b[49m\u001b[43m[\u001b[49m\u001b[38;5;241;43m0\u001b[39;49m\u001b[43m]\u001b[49m\n\u001b[0;32m      7\u001b[0m \u001b[38;5;28mprint\u001b[39m(\u001b[38;5;124m\"\u001b[39m\u001b[38;5;124mTotal Protein supply quantity in Madagascar in 2015:\u001b[39m\u001b[38;5;124m\"\u001b[39m, protein_2015)\n",
      "\u001b[1;31mIndexError\u001b[0m: index 0 is out of bounds for axis 0 with size 0"
     ]
    }
   ],
   "source": [
    "# Filter the dataframe for Madagascar and the specific item\n",
    "madagascar_protein_2015 = df[(df['Area'] == 'Madagascar') & (df['Item'] == 'Protein supply quantity (g/capita/day)')]\n",
    "\n",
    "# Extract the value for 2015\n",
    "protein_2015 = madagascar_protein_2015['Y2015'].values[0]\n",
    "\n",
    "print(\"Total Protein supply quantity in Madagascar in 2015:\", protein_2015)\n"
   ]
  },
  {
   "cell_type": "code",
   "execution_count": 31,
   "id": "c5d74e0c",
   "metadata": {},
   "outputs": [
    {
     "name": "stdout",
     "output_type": "stream",
     "text": [
      "Empty DataFrame\n",
      "Columns: [Area Code, Area, Item Code, Item, Element Code, Element, Unit, Y2014, Y2015, Y2016, Y2017, Y2018]\n",
      "Index: []\n"
     ]
    }
   ],
   "source": [
    "print(madagascar_protein_2015)\n"
   ]
  },
  {
   "cell_type": "code",
   "execution_count": 32,
   "id": "44e42c05",
   "metadata": {},
   "outputs": [],
   "source": [
    "stock_variation_df = df[df['Element'] == 'Stock Variation']\n"
   ]
  },
  {
   "cell_type": "code",
   "execution_count": 34,
   "id": "15924a89",
   "metadata": {},
   "outputs": [
    {
     "name": "stdout",
     "output_type": "stream",
     "text": [
      "Element with the highest sum of Stock Variation: Stock Variation\n"
     ]
    },
    {
     "name": "stderr",
     "output_type": "stream",
     "text": [
      "C:\\Users\\user\\AppData\\Local\\Temp\\ipykernel_11816\\4059426026.py:2: SettingWithCopyWarning: \n",
      "A value is trying to be set on a copy of a slice from a DataFrame.\n",
      "Try using .loc[row_indexer,col_indexer] = value instead\n",
      "\n",
      "See the caveats in the documentation: https://pandas.pydata.org/pandas-docs/stable/user_guide/indexing.html#returning-a-view-versus-a-copy\n",
      "  stock_variation_df['Total_Stock_Variation'] = stock_variation_df[['Y2014', 'Y2015', 'Y2016', 'Y2017', 'Y2018']].sum(axis=1)\n"
     ]
    }
   ],
   "source": [
    "# Sum the values across years\n",
    "stock_variation_df['Total_Stock_Variation'] = stock_variation_df[['Y2014', 'Y2015', 'Y2016', 'Y2017', 'Y2018']].sum(axis=1)\n",
    "\n",
    "# Group by 'Element' and find the sum of 'Total_Stock_Variation' for each year\n",
    "grouped_stock_variation = stock_variation_df.groupby('Element')['Total_Stock_Variation'].sum()\n",
    "\n",
    "# Find the element with the highest sum of stock variation\n",
    "element_highest_stock_variation_sum = grouped_stock_variation.idxmax()\n",
    "print(\"Element with the highest sum of Stock Variation:\", element_highest_stock_variation_sum)\n"
   ]
  },
  {
   "cell_type": "code",
   "execution_count": 35,
   "id": "a3c1a97d",
   "metadata": {},
   "outputs": [
    {
     "name": "stdout",
     "output_type": "stream",
     "text": [
      "Year with the highest sum of Stock Variation: Stock Variation\n"
     ]
    }
   ],
   "source": [
    "# Group by 'Element' and find the sum of 'Total_Stock_Variation' for each year\n",
    "grouped_stock_variation = stock_variation_df.groupby('Element')[['Y2014', 'Y2015', 'Y2016', 'Y2017', 'Y2018']].sum()\n",
    "\n",
    "# Find the year with the highest sum of stock variation\n",
    "year_highest_stock_variation_sum = grouped_stock_variation.sum(axis=1).idxmax()\n",
    "print(\"Year with the highest sum of Stock Variation:\", year_highest_stock_variation_sum)\n"
   ]
  },
  {
   "cell_type": "code",
   "execution_count": 36,
   "id": "43beda21",
   "metadata": {},
   "outputs": [
    {
     "name": "stdout",
     "output_type": "stream",
     "text": [
      "Total sum of Wine produced in 2015: 4251.8099999999995\n",
      "Total sum of Wine produced in 2018: 4039.3199999999997\n"
     ]
    }
   ],
   "source": [
    "#Question10\n",
    "# Filter the DataFrame to include only rows where the 'Item' column is 'Wine'\n",
    "wine_df = df[df['Item'] == 'Wine']\n",
    "\n",
    "# Perform a groupby sum aggregation on the 'Item' column for each year\n",
    "wine_production_2015 = wine_df['Y2015'].sum()\n",
    "wine_production_2018 = wine_df['Y2018'].sum()\n",
    "\n",
    "print(\"Total sum of Wine produced in 2015:\", wine_production_2015)\n",
    "print(\"Total sum of Wine produced in 2018:\", wine_production_2018)\n"
   ]
  },
  {
   "cell_type": "code",
   "execution_count": null,
   "id": "df505bc8",
   "metadata": {},
   "outputs": [],
   "source": []
  }
 ],
 "metadata": {
  "kernelspec": {
   "display_name": "Python 3 (ipykernel)",
   "language": "python",
   "name": "python3"
  },
  "language_info": {
   "codemirror_mode": {
    "name": "ipython",
    "version": 3
   },
   "file_extension": ".py",
   "mimetype": "text/x-python",
   "name": "python",
   "nbconvert_exporter": "python",
   "pygments_lexer": "ipython3",
   "version": "3.10.9"
  }
 },
 "nbformat": 4,
 "nbformat_minor": 5
}
